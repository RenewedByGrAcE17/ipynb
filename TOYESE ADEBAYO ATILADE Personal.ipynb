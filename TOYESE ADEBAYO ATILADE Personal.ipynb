{
 "cells": [
  {
   "cell_type": "code",
   "execution_count": 2,
   "metadata": {},
   "outputs": [],
   "source": [
    "# import the libraries\n",
    "import pandas as pd\n",
    "import numpy as np\n",
    "\n",
    "# for database connection\n",
    "import mysql.connector\n",
    "from mysql.connector import Error\n",
    "\n",
    "import seaborn as sns\n",
    "import matplotlib.pyplot as plt\n",
    "import plotly.express as px\n",
    "from IPython.display import clear_output"
   ]
  },
  {
   "cell_type": "code",
   "execution_count": null,
   "metadata": {},
   "outputs": [],
   "source": [
    "\n",
    "# Load the data\n",
    "df = pd.read_csv('orders.csv')\n",
    "df_details = pd.read_csv('order details.csv')"
   ]
  },
  {
   "cell_type": "code",
   "execution_count": null,
   "metadata": {},
   "outputs": [],
   "source": [
    "import pandas as pd\n",
    "import matplotlib.pyplot as plt\n",
    "\n",
    "# Load the data\n",
    "df = pd.read_csv('orders.csv')\n",
    "df_details = pd.read_csv('order details.csv')\n",
    "\n",
    "# Merge the datasets\n",
    "merged_df = df.merge(df_details, on='OrderID')\n",
    "\n",
    "# Calculate total sales per product\n",
    "product_sales = merged_df.groupby('ProductID')['UnitPrice', 'Quantity', 'Discount'].sum()\n",
    "product_sales['TotalSales'] = product_sales['UnitPrice'] * product_sales['Quantity'] * (1 - product_sales['Discount'])\n",
    "\n",
    "# Visualize top-selling products\n",
    "product_sales.sort_values(by='TotalSales', ascending=False).head(10)['TotalSales'].plot(kind='bar')\n",
    "plt.title('Top 10 Selling Products')\n",
    "plt.xlabel('Product ID')\n",
    "plt.ylabel('Total Sales')\n",
    "plt.show()"
   ]
  }
 ],
 "metadata": {
  "kernelspec": {
   "display_name": "Python 3",
   "language": "python",
   "name": "python3"
  },
  "language_info": {
   "codemirror_mode": {
    "name": "ipython",
    "version": 3
   },
   "file_extension": ".py",
   "mimetype": "text/x-python",
   "name": "python",
   "nbconvert_exporter": "python",
   "pygments_lexer": "ipython3",
   "version": "3.11.9"
  }
 },
 "nbformat": 4,
 "nbformat_minor": 2
}
