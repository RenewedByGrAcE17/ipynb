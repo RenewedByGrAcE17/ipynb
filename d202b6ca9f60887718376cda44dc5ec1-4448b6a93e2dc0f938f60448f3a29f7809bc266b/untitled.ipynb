{
  "cells": [
    {
      "cell_type": "markdown",
      "metadata": {
        "id": "view-in-github",
        "colab_type": "text"
      },
      "source": [
        "<a href=\"https://colab.research.google.com/gist/TEEBEE0708/d202b6ca9f60887718376cda44dc5ec1/untitled.ipynb\" target=\"_parent\"><img src=\"https://colab.research.google.com/assets/colab-badge.svg\" alt=\"Open In Colab\"/></a>"
      ]
    },
    {
      "cell_type": "markdown",
      "id": "23a771f4-0b37-4390-b31f-a87e54fe83f8",
      "metadata": {
        "id": "23a771f4-0b37-4390-b31f-a87e54fe83f8"
      },
      "source": [
        "# lesson One\n",
        "\n",
        "### Lesson Objectives:\n",
        "* Lesson Basics\n",
        "* More Basics  "
      ]
    },
    {
      "cell_type": "code",
      "execution_count": null,
      "id": "d80a8496-daa1-4f14-9bd3-446a59bac432",
      "metadata": {
        "id": "d80a8496-daa1-4f14-9bd3-446a59bac432",
        "outputId": "3cb87f14-6c31-4d75-efc1-6b928269889c"
      },
      "outputs": [
        {
          "name": "stdin",
          "output_type": "stream",
          "text": [
            "Enter your Country:  Canada\n"
          ]
        },
        {
          "name": "stdout",
          "output_type": "stream",
          "text": [
            "Hi my friend from Canada\n"
          ]
        }
      ],
      "source": [
        "# Write a program that accepts someone ethnicity and greet them nicely\n",
        "# greeting should be like \"hi my friend from Rwanda\"\n",
        "\n",
        "Country = input('Enter your Country: ')\n",
        "print(f'Hi my friend from {Country}')\n"
      ]
    },
    {
      "cell_type": "code",
      "execution_count": null,
      "id": "c0e1b2de-bca2-4f19-b240-1628c58abe73",
      "metadata": {
        "id": "c0e1b2de-bca2-4f19-b240-1628c58abe73",
        "outputId": "3089d3d2-805d-45a5-fcdd-4a1c9b465452"
      },
      "outputs": [
        {
          "name": "stdin",
          "output_type": "stream",
          "text": [
            "Enter your name:  Taibat\n",
            "Enter your friend's name:  Aminat\n"
          ]
        },
        {
          "name": "stdout",
          "output_type": "stream",
          "text": [
            "Hello, Taibat and Aminat\n"
          ]
        }
      ],
      "source": [
        "\n",
        "name = input(\"Enter your name: \")\n",
        "friend_name = input(f\"Enter your friend's name: \")\n",
        "\n",
        "print(f\"Hello, {name} and {friend_name}\")"
      ]
    },
    {
      "cell_type": "code",
      "execution_count": null,
      "id": "b1480c9d-2163-4808-b4d9-6d8118be64d4",
      "metadata": {
        "id": "b1480c9d-2163-4808-b4d9-6d8118be64d4",
        "outputId": "b70cd979-eb00-44ba-8a96-2285ba20b38d"
      },
      "outputs": [
        {
          "name": "stdin",
          "output_type": "stream",
          "text": [
            "Enter your first number:  20\n",
            "Enter your second number:  12\n"
          ]
        },
        {
          "name": "stdout",
          "output_type": "stream",
          "text": [
            "the sum of 20.0 and 12.0 is 32.0.\n"
          ]
        }
      ],
      "source": [
        "num1 = float(input(\"Enter your first number: \"))\n",
        "num2 = float(input(\"Enter your second number: \"))\n",
        "sum_tog = num1 + num2\n",
        "print(f\"the sum of {num1} and {num2} is {sum_tog}.\")"
      ]
    },
    {
      "cell_type": "code",
      "execution_count": null,
      "id": "3f3ada87-6ec6-4b88-adfc-c7d607f459e3",
      "metadata": {
        "id": "3f3ada87-6ec6-4b88-adfc-c7d607f459e3",
        "outputId": "5edc5a8d-e759-4a32-ef25-8987dd0ded36"
      },
      "outputs": [
        {
          "name": "stdin",
          "output_type": "stream",
          "text": [
            "oh Zaddy what's your name:  Olaitan\n",
            "Ohh Olaitan, what year were you born 1979\n"
          ]
        },
        {
          "name": "stdout",
          "output_type": "stream",
          "text": [
            "so Olaitan you are 45 years old\n"
          ]
        }
      ],
      "source": [
        "# Write a program that asks the user for their birth year, subtracts it from the current year (e.g., 2024), and displays their age.\n",
        "\n",
        "name = input(\"oh Zaddy what's your name: \")\n",
        "birth_year = int(input(f\"Ohh {name}, what year were you born\"))\n",
        "age = 2024 - int(birth_year)\n",
        "print(f\"so {name} you are {age} years old\")\n"
      ]
    },
    {
      "cell_type": "code",
      "execution_count": null,
      "id": "da55dbad-b5aa-4e13-a17a-9fa392b533b3",
      "metadata": {
        "id": "da55dbad-b5aa-4e13-a17a-9fa392b533b3",
        "outputId": "7cbe062d-ea7e-4356-ecc7-cc7ae45b513e"
      },
      "outputs": [
        {
          "name": "stdin",
          "output_type": "stream",
          "text": [
            "Enter temperature in Celsius:  20\n"
          ]
        },
        {
          "name": "stdout",
          "output_type": "stream",
          "text": [
            "20.0C is equal to 68.0F\n"
          ]
        }
      ],
      "source": [
        "# Temperature Converter (Celsius to Fahrenheit)\n",
        "# Build a program that accepts a temperature in Celsius, converts it to Fahrenheit using the formula (C * 9/5) + 32, and prints the result.\n",
        "celsius = float(input(\"Enter temperature in Celsius: \"))\n",
        "fahrenheit = (celsius * 9/5) + 32\n",
        "print(f\"{celsius}C is equal to {fahrenheit}F\")\n",
        "\n"
      ]
    },
    {
      "cell_type": "code",
      "execution_count": null,
      "id": "94160bc4-212b-4ecf-abcb-2423be8b8aca",
      "metadata": {
        "id": "94160bc4-212b-4ecf-abcb-2423be8b8aca",
        "outputId": "9179723e-a64f-4297-817b-f68c5791cac4"
      },
      "outputs": [
        {
          "name": "stdin",
          "output_type": "stream",
          "text": [
            "Enter Dollar amount:  1\n",
            "Enter Naira amount:  1690\n"
          ]
        },
        {
          "name": "stdout",
          "output_type": "stream",
          "text": [
            "then 1.0 is equal to 1690.0\n"
          ]
        }
      ],
      "source": [
        "# Dollar to naira converter.\n",
        "# Write a program that accepts dollar value and concerts it to naira Display the result using an f-string.\n",
        "\n",
        "dollar = float(input(\"Enter Dollar amount: \"))\n",
        "naira = float(input(\"Enter Naira amount: \"))\n",
        "print(f\"then {dollar} is equal to {naira}\")"
      ]
    },
    {
      "cell_type": "code",
      "execution_count": null,
      "id": "8be2e08c-e211-4ca0-994c-8c40599eda17",
      "metadata": {
        "id": "8be2e08c-e211-4ca0-994c-8c40599eda17",
        "outputId": "4b183895-e079-48c9-9e8e-3425882acd2f"
      },
      "outputs": [
        {
          "name": "stdin",
          "output_type": "stream",
          "text": [
            "Enter your firstname:  Yekeen\n",
            "Enter your lastname:  Taibat\n"
          ]
        },
        {
          "name": "stdout",
          "output_type": "stream",
          "text": [
            "then Yekeen Taibat is your full name\n"
          ]
        }
      ],
      "source": [
        "# Concatenate Two Strings\n",
        "# Write a program that accepts two strings (e.g., first name and last name) and prints them together as a single full name.\n",
        "\n",
        "first_name = input(\"Enter your firstname: \")\n",
        "last_name = input(\"Enter your lastname: \")\n",
        "print(f\"then {first_name} {last_name} is your full name\")"
      ]
    },
    {
      "cell_type": "code",
      "execution_count": null,
      "id": "95e79e8b-f002-4875-a269-4367c86d6dc2",
      "metadata": {
        "id": "95e79e8b-f002-4875-a269-4367c86d6dc2",
        "outputId": "d81629a1-96fc-40d7-9dcf-bc95dbd06201"
      },
      "outputs": [
        {
          "name": "stdin",
          "output_type": "stream",
          "text": [
            "Enter length of Rectangle:  30\n",
            "Enter width of Rectangle:  20\n"
          ]
        },
        {
          "name": "stdout",
          "output_type": "stream",
          "text": [
            "so Area of Rectangle is 600.0\n"
          ]
        }
      ],
      "source": [
        "# Calculate the Area of a Rectangle\n",
        "# Create a program that takes the length and width of a rectangle, calculates the area, and prints the result. Area is lenth * width\n",
        "\n",
        "length = float(input(\"Enter length of Rectangle: \"))\n",
        "width = float(input(\"Enter width of Rectangle: \"))\n",
        "area = length * width\n",
        "print(f\"so Area of Rectangle is {area}\")"
      ]
    },
    {
      "cell_type": "code",
      "execution_count": null,
      "id": "b2dfd822-20b4-486f-a7cb-d7997328258c",
      "metadata": {
        "id": "b2dfd822-20b4-486f-a7cb-d7997328258c"
      },
      "outputs": [],
      "source": []
    }
  ],
  "metadata": {
    "kernelspec": {
      "display_name": "Python 3 (ipykernel)",
      "language": "python",
      "name": "python3"
    },
    "language_info": {
      "codemirror_mode": {
        "name": "ipython",
        "version": 3
      },
      "file_extension": ".py",
      "mimetype": "text/x-python",
      "name": "python",
      "nbconvert_exporter": "python",
      "pygments_lexer": "ipython3",
      "version": "3.11.7"
    },
    "colab": {
      "provenance": [],
      "include_colab_link": true
    }
  },
  "nbformat": 4,
  "nbformat_minor": 5
}