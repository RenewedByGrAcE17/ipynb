{
 "cells": [
  {
   "cell_type": "code",
   "execution_count": 3,
   "metadata": {},
   "outputs": [
    {
     "name": "stdout",
     "output_type": "stream",
     "text": [
      "10 is even.\n"
     ]
    }
   ],
   "source": [
    "# Odd or Even Checker\n",
    "number = int(input(\"Enter a number: \"))\n",
    "\n",
    "if number % 2 == 0:\n",
    "    print(f\"{number} is even.\")\n",
    "else:\n",
    "    print(f\"{number} is odd.\")"
   ]
  },
  {
   "cell_type": "code",
   "execution_count": 6,
   "metadata": {},
   "outputs": [
    {
     "name": "stdout",
     "output_type": "stream",
     "text": [
      "You got an: D\n"
     ]
    }
   ],
   "source": [
    "# Grade Checker\n",
    "score = int(input(\"Enter your exam score: \"))\n",
    "\n",
    "if score >= 80:\n",
    "    grade = \"A\"\n",
    "elif score >= 70:\n",
    "    grade = \"B\"\n",
    "elif score >= 60:\n",
    "    grade = \"C\"\n",
    "elif score >= 50:\n",
    "    grade = \"D\"\n",
    "elif score >= 40:\n",
    "    grade = \"E\"\n",
    "else:\n",
    "    grade = \"F\" \n",
    "\n",
    "\n",
    "print(f\"You got an: {grade}\")"
   ]
  },
  {
   "cell_type": "code",
   "execution_count": null,
   "metadata": {},
   "outputs": [
    {
     "name": "stdout",
     "output_type": "stream",
     "text": [
      "The number is zero.\n"
     ]
    }
   ],
   "source": [
    "# Positive, Negative, or Zero\n",
    "number = int(input(\"Enter a number: \"))\n",
    "\n",
    "if number > 0:\n",
    "    print(\"The number is positive.\")\n",
    "elif number < 0:\n",
    "    print(\"The number is negative.\")\n",
    "else:\n",
    "    print(\"The number is zero.\")"
   ]
  },
  {
   "cell_type": "code",
   "execution_count": null,
   "metadata": {},
   "outputs": [
    {
     "name": "stdout",
     "output_type": "stream",
     "text": [
      "The largest number is: 4.0\n"
     ]
    }
   ],
   "source": [
    "# Find the Largest of Three Numbers\n",
    "num1 = int(input(\"Enter the first number: \"))\n",
    "num2 = int(input(\"Enter the second number: \"))\n",
    "num3 = int(input(\"Enter the third number: \"))\n",
    "\n",
    "largest_number = max(num1, num2, num3)\n",
    "\n",
    "print(\"The largest number is:\", largest_number)"
   ]
  },
  {
   "cell_type": "code",
   "execution_count": 12,
   "metadata": {},
   "outputs": [
    {
     "name": "stdout",
     "output_type": "stream",
     "text": [
      "Your BMI is 27.968016063681024. You are overweight.\n"
     ]
    }
   ],
   "source": [
    "# BMI Calculator\n",
    "weight = float(input(\"Enter your weight in kg: \"))\n",
    "height = float(input(\"Enter your height in meters: \"))\n",
    "\n",
    "BMI = weight / (height * height)\n",
    "\n",
    "if BMI < 18.5:\n",
    "    print(f\"Your BMI is {BMI}. You are underweight.\")\n",
    "elif 18.5 <= BMI < 25:\n",
    "    print(f\"Your BMI is {BMI}. You are of normal weight.\")\n",
    "elif 25 <= BMI < 30:\n",
    "    print(f\"Your BMI is {BMI}. You are overweight.\")\n",
    "else:\n",
    "    print(f\"Your BMI is {BMI}. You are obese.\")"
   ]
  },
  {
   "cell_type": "code",
   "execution_count": 13,
   "metadata": {},
   "outputs": [
    {
     "name": "stdout",
     "output_type": "stream",
     "text": [
      "You are eligible to vote.\n"
     ]
    }
   ],
   "source": [
    "# Check for Eligibility to Vote\n",
    "age = int(input(\"Enter your age: \"))\n",
    "\n",
    "if age >= 18:\n",
    "    print(\"You are eligible to vote.\")\n",
    "else:\n",
    "    print(\"You are not eligible to vote.\")"
   ]
  },
  {
   "cell_type": "code",
   "execution_count": null,
   "metadata": {},
   "outputs": [
    {
     "name": "stdout",
     "output_type": "stream",
     "text": [
      "No discount applied. Final amount: 10000.00 Naira\n"
     ]
    }
   ],
   "source": [
    "# Discount Calculator\n",
    "total_amount = int(input(\"Enter the total purchase amount (in Naira): \"))\n",
    "\n",
    "if total_amount > 10000:\n",
    "    discount = 0.1 * total_amount\n",
    "    final_amount = total_amount - discount\n",
    "    print(f\"Discount applied! Final amount: {final_amount:.2f} Naira\")\n",
    "else:\n",
    "    final_amount = total_amount\n",
    "    print(f\"No discount applied. Final amount: {total_amount:.2f} Naira\")"
   ]
  },
  {
   "cell_type": "code",
   "execution_count": 1,
   "metadata": {},
   "outputs": [
    {
     "name": "stdout",
     "output_type": "stream",
     "text": [
      "Invalid color!!!\n"
     ]
    }
   ],
   "source": [
    "# Traffic Light Simulator\n",
    "color = input(\"Enter a color (red, yellow, or green): \")\n",
    "\n",
    "if color == \"red\":\n",
    "    print(\"Stop!\")\n",
    "elif color == \"yellow\":\n",
    "    print(\"Ready!\")\n",
    "elif color == \"green\":\n",
    "    print(\"Go!\")\n",
    "else:\n",
    "    print(\"Invalid color!!!\")"
   ]
  },
  {
   "cell_type": "code",
   "execution_count": 5,
   "metadata": {},
   "outputs": [
    {
     "name": "stdout",
     "output_type": "stream",
     "text": [
      "2 is the smallest number\n"
     ]
    }
   ],
   "source": [
    "# Find The Smallest of Three Numbers\n",
    "num1 = int(input(\"Enter the first number: \"))\n",
    "num2 = int(input(\"Enter the second number: \"))\n",
    "num3 = int(input(\"Enter the third number: \"))\n",
    "\n",
    "smallest_number = min(num1, num2, num3)\n",
    "\n",
    "print(smallest_number, \"is the smallest number\")"
   ]
  },
  {
   "cell_type": "code",
   "execution_count": 5,
   "metadata": {},
   "outputs": [
    {
     "name": "stdout",
     "output_type": "stream",
     "text": [
      "It is warm.\n"
     ]
    }
   ],
   "source": [
    "# Temperature Status Checker\n",
    "temperature = float(input(\"Enter the temperature in degrees Celsius: °C\"))\n",
    "\n",
    "if temperature < 20:\n",
    "    print(\"It is cold.\")\n",
    "elif 20 <= temperature <= 30:\n",
    "    print(\"It is warm.\")\n",
    "else:\n",
    "    print(\"It is hot.\")"
   ]
  },
  {
   "cell_type": "code",
   "execution_count": 7,
   "metadata": {},
   "outputs": [
    {
     "name": "stdout",
     "output_type": "stream",
     "text": [
      "22 is not a multiple of 5.\n"
     ]
    }
   ],
   "source": [
    "# Multiple of 5 Checker\n",
    "number = int(input(\"Enter a number: \"))\n",
    "\n",
    "if number % 5 == 0:\n",
    "    print(number, \"is a multiple of 5.\")\n",
    "else:\n",
    "    print(number, \"is not a multiple of 5.\")"
   ]
  },
  {
   "cell_type": "code",
   "execution_count": 8,
   "metadata": {},
   "outputs": [
    {
     "name": "stdout",
     "output_type": "stream",
     "text": [
      "15 is divisible by both 3 and 5.\n"
     ]
    }
   ],
   "source": [
    "# Number Divisibility Checker\n",
    "number = int(input(\"Enter a number: \"))\n",
    "\n",
    "if number % 3 == 0 and number % 5 == 0:\n",
    "    print(number, \"is divisible by both 3 and 5.\")\n",
    "else:\n",
    "    print(number, \"is not divisible by both 3 and 5.\")"
   ]
  }
 ],
 "metadata": {
  "kernelspec": {
   "display_name": "Python 3",
   "language": "python",
   "name": "python3"
  },
  "language_info": {
   "codemirror_mode": {
    "name": "ipython",
    "version": 3
   },
   "file_extension": ".py",
   "mimetype": "text/x-python",
   "name": "python",
   "nbconvert_exporter": "python",
   "pygments_lexer": "ipython3",
   "version": "3.11.9"
  }
 },
 "nbformat": 4,
 "nbformat_minor": 2
}
