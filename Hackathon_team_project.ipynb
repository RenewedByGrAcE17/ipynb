{
 "cells": [
  {
   "cell_type": "code",
   "execution_count": 1,
   "id": "770141b3-9ffd-47d7-91f0-c1898c377fa3",
   "metadata": {},
   "outputs": [],
   "source": [
    "import pandas as pd\n",
    "import numpy as np\n",
    "\n",
    "\n",
    "import matplotlib.pyplot as plt\n",
    "import seaborn as sns\n",
    "import plotly.express as px\n",
    "from statsmodels.formula.api import ols\n",
    "from statsmodels.stats.anova import anova_lm\n",
    "from scipy.stats import f_oneway,pearsonr,chi2_contingency,spearmanr"
   ]
  },
  {
   "cell_type": "code",
   "execution_count": 4,
   "id": "aaa947c6-142a-47e7-a1d2-dbf0b78d2753",
   "metadata": {},
   "outputs": [],
   "source": [
    "# importing of our datset\n",
    "\n",
    "loan_dataset = pd.read_csv('loan_data.csv')"
   ]
  },
  {
   "cell_type": "code",
   "execution_count": 62,
   "id": "1f0506b9-9e4b-4b15-aef4-a460a64250a0",
   "metadata": {
    "scrolled": true
   },
   "outputs": [
    {
     "data": {
      "text/html": [
       "<div>\n",
       "<style scoped>\n",
       "    .dataframe tbody tr th:only-of-type {\n",
       "        vertical-align: middle;\n",
       "    }\n",
       "\n",
       "    .dataframe tbody tr th {\n",
       "        vertical-align: top;\n",
       "    }\n",
       "\n",
       "    .dataframe thead th {\n",
       "        text-align: right;\n",
       "    }\n",
       "</style>\n",
       "<table border=\"1\" class=\"dataframe\">\n",
       "  <thead>\n",
       "    <tr style=\"text-align: right;\">\n",
       "      <th></th>\n",
       "      <th>person_age</th>\n",
       "      <th>person_gender</th>\n",
       "      <th>person_education</th>\n",
       "      <th>person_income</th>\n",
       "      <th>person_emp_exp</th>\n",
       "      <th>person_home_ownership</th>\n",
       "      <th>loan_amnt</th>\n",
       "      <th>loan_intent</th>\n",
       "      <th>loan_int_rate</th>\n",
       "      <th>loan_percent_income</th>\n",
       "      <th>cb_person_cred_hist_length</th>\n",
       "      <th>credit_score</th>\n",
       "      <th>previous_loan_defaults_on_file</th>\n",
       "      <th>loan_status</th>\n",
       "    </tr>\n",
       "  </thead>\n",
       "  <tbody>\n",
       "    <tr>\n",
       "      <th>0</th>\n",
       "      <td>22.0</td>\n",
       "      <td>female</td>\n",
       "      <td>Master</td>\n",
       "      <td>71948.0</td>\n",
       "      <td>0</td>\n",
       "      <td>RENT</td>\n",
       "      <td>35000.0</td>\n",
       "      <td>PERSONAL</td>\n",
       "      <td>16.02</td>\n",
       "      <td>0.49</td>\n",
       "      <td>3.0</td>\n",
       "      <td>561</td>\n",
       "      <td>No</td>\n",
       "      <td>1</td>\n",
       "    </tr>\n",
       "    <tr>\n",
       "      <th>1</th>\n",
       "      <td>21.0</td>\n",
       "      <td>female</td>\n",
       "      <td>High School</td>\n",
       "      <td>12282.0</td>\n",
       "      <td>0</td>\n",
       "      <td>OWN</td>\n",
       "      <td>1000.0</td>\n",
       "      <td>EDUCATION</td>\n",
       "      <td>11.14</td>\n",
       "      <td>0.08</td>\n",
       "      <td>2.0</td>\n",
       "      <td>504</td>\n",
       "      <td>Yes</td>\n",
       "      <td>0</td>\n",
       "    </tr>\n",
       "    <tr>\n",
       "      <th>2</th>\n",
       "      <td>25.0</td>\n",
       "      <td>female</td>\n",
       "      <td>High School</td>\n",
       "      <td>12438.0</td>\n",
       "      <td>3</td>\n",
       "      <td>MORTGAGE</td>\n",
       "      <td>5500.0</td>\n",
       "      <td>MEDICAL</td>\n",
       "      <td>12.87</td>\n",
       "      <td>0.44</td>\n",
       "      <td>3.0</td>\n",
       "      <td>635</td>\n",
       "      <td>No</td>\n",
       "      <td>1</td>\n",
       "    </tr>\n",
       "    <tr>\n",
       "      <th>3</th>\n",
       "      <td>23.0</td>\n",
       "      <td>female</td>\n",
       "      <td>Bachelor</td>\n",
       "      <td>79753.0</td>\n",
       "      <td>0</td>\n",
       "      <td>RENT</td>\n",
       "      <td>35000.0</td>\n",
       "      <td>MEDICAL</td>\n",
       "      <td>15.23</td>\n",
       "      <td>0.44</td>\n",
       "      <td>2.0</td>\n",
       "      <td>675</td>\n",
       "      <td>No</td>\n",
       "      <td>1</td>\n",
       "    </tr>\n",
       "    <tr>\n",
       "      <th>4</th>\n",
       "      <td>24.0</td>\n",
       "      <td>male</td>\n",
       "      <td>Master</td>\n",
       "      <td>66135.0</td>\n",
       "      <td>1</td>\n",
       "      <td>RENT</td>\n",
       "      <td>35000.0</td>\n",
       "      <td>MEDICAL</td>\n",
       "      <td>14.27</td>\n",
       "      <td>0.53</td>\n",
       "      <td>4.0</td>\n",
       "      <td>586</td>\n",
       "      <td>No</td>\n",
       "      <td>1</td>\n",
       "    </tr>\n",
       "  </tbody>\n",
       "</table>\n",
       "</div>"
      ],
      "text/plain": [
       "   person_age person_gender person_education  person_income  person_emp_exp  \\\n",
       "0        22.0        female           Master        71948.0               0   \n",
       "1        21.0        female      High School        12282.0               0   \n",
       "2        25.0        female      High School        12438.0               3   \n",
       "3        23.0        female         Bachelor        79753.0               0   \n",
       "4        24.0          male           Master        66135.0               1   \n",
       "\n",
       "  person_home_ownership  loan_amnt loan_intent  loan_int_rate  \\\n",
       "0                  RENT    35000.0    PERSONAL          16.02   \n",
       "1                   OWN     1000.0   EDUCATION          11.14   \n",
       "2              MORTGAGE     5500.0     MEDICAL          12.87   \n",
       "3                  RENT    35000.0     MEDICAL          15.23   \n",
       "4                  RENT    35000.0     MEDICAL          14.27   \n",
       "\n",
       "   loan_percent_income  cb_person_cred_hist_length  credit_score  \\\n",
       "0                 0.49                         3.0           561   \n",
       "1                 0.08                         2.0           504   \n",
       "2                 0.44                         3.0           635   \n",
       "3                 0.44                         2.0           675   \n",
       "4                 0.53                         4.0           586   \n",
       "\n",
       "  previous_loan_defaults_on_file  loan_status  \n",
       "0                             No            1  \n",
       "1                            Yes            0  \n",
       "2                             No            1  \n",
       "3                             No            1  \n",
       "4                             No            1  "
      ]
     },
     "execution_count": 62,
     "metadata": {},
     "output_type": "execute_result"
    }
   ],
   "source": [
    "loan_dataset.head()"
   ]
  },
  {
   "cell_type": "code",
   "execution_count": 5,
   "id": "e925e7ba-1620-4f97-9eb0-5761d12754d4",
   "metadata": {},
   "outputs": [
    {
     "name": "stdout",
     "output_type": "stream",
     "text": [
      "<class 'pandas.core.frame.DataFrame'>\n",
      "RangeIndex: 45000 entries, 0 to 44999\n",
      "Data columns (total 14 columns):\n",
      " #   Column                          Non-Null Count  Dtype  \n",
      "---  ------                          --------------  -----  \n",
      " 0   person_age                      45000 non-null  float64\n",
      " 1   person_gender                   45000 non-null  object \n",
      " 2   person_education                45000 non-null  object \n",
      " 3   person_income                   45000 non-null  float64\n",
      " 4   person_emp_exp                  45000 non-null  int64  \n",
      " 5   person_home_ownership           45000 non-null  object \n",
      " 6   loan_amnt                       45000 non-null  float64\n",
      " 7   loan_intent                     45000 non-null  object \n",
      " 8   loan_int_rate                   45000 non-null  float64\n",
      " 9   loan_percent_income             45000 non-null  float64\n",
      " 10  cb_person_cred_hist_length      45000 non-null  float64\n",
      " 11  credit_score                    45000 non-null  int64  \n",
      " 12  previous_loan_defaults_on_file  45000 non-null  object \n",
      " 13  loan_status                     45000 non-null  int64  \n",
      "dtypes: float64(6), int64(3), object(5)\n",
      "memory usage: 4.8+ MB\n"
     ]
    }
   ],
   "source": [
    "# checking our dataset datatype\n",
    "\n",
    "loan_dataset.info()"
   ]
  },
  {
   "cell_type": "code",
   "execution_count": 6,
   "id": "849a9937-2010-4973-a3cd-f6776f9738fe",
   "metadata": {},
   "outputs": [
    {
     "data": {
      "text/plain": [
       "person_age                        0\n",
       "person_gender                     0\n",
       "person_education                  0\n",
       "person_income                     0\n",
       "person_emp_exp                    0\n",
       "person_home_ownership             0\n",
       "loan_amnt                         0\n",
       "loan_intent                       0\n",
       "loan_int_rate                     0\n",
       "loan_percent_income               0\n",
       "cb_person_cred_hist_length        0\n",
       "credit_score                      0\n",
       "previous_loan_defaults_on_file    0\n",
       "loan_status                       0\n",
       "dtype: int64"
      ]
     },
     "execution_count": 6,
     "metadata": {},
     "output_type": "execute_result"
    }
   ],
   "source": [
    "loan_dataset.isnull().sum()"
   ]
  },
  {
   "cell_type": "code",
   "execution_count": 7,
   "id": "297f172b-91a8-420f-8e9c-26cc5d8537c6",
   "metadata": {},
   "outputs": [],
   "source": [
    "# dropping of redundant colum \n",
    "\n",
    "loan_dataset.drop(columns = ['loan_status'], inplace = True)"
   ]
  },
  {
   "cell_type": "code",
   "execution_count": 8,
   "id": "8e09bab3-a843-4d5f-8db9-cb403d43ea99",
   "metadata": {},
   "outputs": [],
   "source": [
    "\n",
    "loan_dataset['person_age'] = loan_dataset['person_age'].astype(int)"
   ]
  },
  {
   "cell_type": "code",
   "execution_count": 9,
   "id": "27d5621b-cbd7-4e55-8022-b6524ca3ba9a",
   "metadata": {},
   "outputs": [
    {
     "data": {
      "text/html": [
       "<div>\n",
       "<style scoped>\n",
       "    .dataframe tbody tr th:only-of-type {\n",
       "        vertical-align: middle;\n",
       "    }\n",
       "\n",
       "    .dataframe tbody tr th {\n",
       "        vertical-align: top;\n",
       "    }\n",
       "\n",
       "    .dataframe thead th {\n",
       "        text-align: right;\n",
       "    }\n",
       "</style>\n",
       "<table border=\"1\" class=\"dataframe\">\n",
       "  <thead>\n",
       "    <tr style=\"text-align: right;\">\n",
       "      <th></th>\n",
       "      <th>person_age</th>\n",
       "      <th>person_gender</th>\n",
       "      <th>person_education</th>\n",
       "      <th>person_income</th>\n",
       "      <th>person_emp_exp</th>\n",
       "      <th>person_home_ownership</th>\n",
       "      <th>loan_amnt</th>\n",
       "      <th>loan_intent</th>\n",
       "      <th>loan_int_rate</th>\n",
       "      <th>loan_percent_income</th>\n",
       "      <th>cb_person_cred_hist_length</th>\n",
       "      <th>credit_score</th>\n",
       "      <th>previous_loan_defaults_on_file</th>\n",
       "    </tr>\n",
       "  </thead>\n",
       "  <tbody>\n",
       "    <tr>\n",
       "      <th>0</th>\n",
       "      <td>22</td>\n",
       "      <td>female</td>\n",
       "      <td>Master</td>\n",
       "      <td>71948.0</td>\n",
       "      <td>0</td>\n",
       "      <td>RENT</td>\n",
       "      <td>35000.0</td>\n",
       "      <td>PERSONAL</td>\n",
       "      <td>16.02</td>\n",
       "      <td>0.49</td>\n",
       "      <td>3.0</td>\n",
       "      <td>561</td>\n",
       "      <td>No</td>\n",
       "    </tr>\n",
       "    <tr>\n",
       "      <th>1</th>\n",
       "      <td>21</td>\n",
       "      <td>female</td>\n",
       "      <td>High School</td>\n",
       "      <td>12282.0</td>\n",
       "      <td>0</td>\n",
       "      <td>OWN</td>\n",
       "      <td>1000.0</td>\n",
       "      <td>EDUCATION</td>\n",
       "      <td>11.14</td>\n",
       "      <td>0.08</td>\n",
       "      <td>2.0</td>\n",
       "      <td>504</td>\n",
       "      <td>Yes</td>\n",
       "    </tr>\n",
       "    <tr>\n",
       "      <th>2</th>\n",
       "      <td>25</td>\n",
       "      <td>female</td>\n",
       "      <td>High School</td>\n",
       "      <td>12438.0</td>\n",
       "      <td>3</td>\n",
       "      <td>MORTGAGE</td>\n",
       "      <td>5500.0</td>\n",
       "      <td>MEDICAL</td>\n",
       "      <td>12.87</td>\n",
       "      <td>0.44</td>\n",
       "      <td>3.0</td>\n",
       "      <td>635</td>\n",
       "      <td>No</td>\n",
       "    </tr>\n",
       "    <tr>\n",
       "      <th>3</th>\n",
       "      <td>23</td>\n",
       "      <td>female</td>\n",
       "      <td>Bachelor</td>\n",
       "      <td>79753.0</td>\n",
       "      <td>0</td>\n",
       "      <td>RENT</td>\n",
       "      <td>35000.0</td>\n",
       "      <td>MEDICAL</td>\n",
       "      <td>15.23</td>\n",
       "      <td>0.44</td>\n",
       "      <td>2.0</td>\n",
       "      <td>675</td>\n",
       "      <td>No</td>\n",
       "    </tr>\n",
       "    <tr>\n",
       "      <th>4</th>\n",
       "      <td>24</td>\n",
       "      <td>male</td>\n",
       "      <td>Master</td>\n",
       "      <td>66135.0</td>\n",
       "      <td>1</td>\n",
       "      <td>RENT</td>\n",
       "      <td>35000.0</td>\n",
       "      <td>MEDICAL</td>\n",
       "      <td>14.27</td>\n",
       "      <td>0.53</td>\n",
       "      <td>4.0</td>\n",
       "      <td>586</td>\n",
       "      <td>No</td>\n",
       "    </tr>\n",
       "    <tr>\n",
       "      <th>5</th>\n",
       "      <td>21</td>\n",
       "      <td>female</td>\n",
       "      <td>High School</td>\n",
       "      <td>12951.0</td>\n",
       "      <td>0</td>\n",
       "      <td>OWN</td>\n",
       "      <td>2500.0</td>\n",
       "      <td>VENTURE</td>\n",
       "      <td>7.14</td>\n",
       "      <td>0.19</td>\n",
       "      <td>2.0</td>\n",
       "      <td>532</td>\n",
       "      <td>No</td>\n",
       "    </tr>\n",
       "    <tr>\n",
       "      <th>6</th>\n",
       "      <td>26</td>\n",
       "      <td>female</td>\n",
       "      <td>Bachelor</td>\n",
       "      <td>93471.0</td>\n",
       "      <td>1</td>\n",
       "      <td>RENT</td>\n",
       "      <td>35000.0</td>\n",
       "      <td>EDUCATION</td>\n",
       "      <td>12.42</td>\n",
       "      <td>0.37</td>\n",
       "      <td>3.0</td>\n",
       "      <td>701</td>\n",
       "      <td>No</td>\n",
       "    </tr>\n",
       "    <tr>\n",
       "      <th>7</th>\n",
       "      <td>24</td>\n",
       "      <td>female</td>\n",
       "      <td>High School</td>\n",
       "      <td>95550.0</td>\n",
       "      <td>5</td>\n",
       "      <td>RENT</td>\n",
       "      <td>35000.0</td>\n",
       "      <td>MEDICAL</td>\n",
       "      <td>11.11</td>\n",
       "      <td>0.37</td>\n",
       "      <td>4.0</td>\n",
       "      <td>585</td>\n",
       "      <td>No</td>\n",
       "    </tr>\n",
       "    <tr>\n",
       "      <th>8</th>\n",
       "      <td>24</td>\n",
       "      <td>female</td>\n",
       "      <td>Associate</td>\n",
       "      <td>100684.0</td>\n",
       "      <td>3</td>\n",
       "      <td>RENT</td>\n",
       "      <td>35000.0</td>\n",
       "      <td>PERSONAL</td>\n",
       "      <td>8.90</td>\n",
       "      <td>0.35</td>\n",
       "      <td>2.0</td>\n",
       "      <td>544</td>\n",
       "      <td>No</td>\n",
       "    </tr>\n",
       "    <tr>\n",
       "      <th>9</th>\n",
       "      <td>21</td>\n",
       "      <td>female</td>\n",
       "      <td>High School</td>\n",
       "      <td>12739.0</td>\n",
       "      <td>0</td>\n",
       "      <td>OWN</td>\n",
       "      <td>1600.0</td>\n",
       "      <td>VENTURE</td>\n",
       "      <td>14.74</td>\n",
       "      <td>0.13</td>\n",
       "      <td>3.0</td>\n",
       "      <td>640</td>\n",
       "      <td>No</td>\n",
       "    </tr>\n",
       "  </tbody>\n",
       "</table>\n",
       "</div>"
      ],
      "text/plain": [
       "   person_age person_gender person_education  person_income  person_emp_exp  \\\n",
       "0          22        female           Master        71948.0               0   \n",
       "1          21        female      High School        12282.0               0   \n",
       "2          25        female      High School        12438.0               3   \n",
       "3          23        female         Bachelor        79753.0               0   \n",
       "4          24          male           Master        66135.0               1   \n",
       "5          21        female      High School        12951.0               0   \n",
       "6          26        female         Bachelor        93471.0               1   \n",
       "7          24        female      High School        95550.0               5   \n",
       "8          24        female        Associate       100684.0               3   \n",
       "9          21        female      High School        12739.0               0   \n",
       "\n",
       "  person_home_ownership  loan_amnt loan_intent  loan_int_rate  \\\n",
       "0                  RENT    35000.0    PERSONAL          16.02   \n",
       "1                   OWN     1000.0   EDUCATION          11.14   \n",
       "2              MORTGAGE     5500.0     MEDICAL          12.87   \n",
       "3                  RENT    35000.0     MEDICAL          15.23   \n",
       "4                  RENT    35000.0     MEDICAL          14.27   \n",
       "5                   OWN     2500.0     VENTURE           7.14   \n",
       "6                  RENT    35000.0   EDUCATION          12.42   \n",
       "7                  RENT    35000.0     MEDICAL          11.11   \n",
       "8                  RENT    35000.0    PERSONAL           8.90   \n",
       "9                   OWN     1600.0     VENTURE          14.74   \n",
       "\n",
       "   loan_percent_income  cb_person_cred_hist_length  credit_score  \\\n",
       "0                 0.49                         3.0           561   \n",
       "1                 0.08                         2.0           504   \n",
       "2                 0.44                         3.0           635   \n",
       "3                 0.44                         2.0           675   \n",
       "4                 0.53                         4.0           586   \n",
       "5                 0.19                         2.0           532   \n",
       "6                 0.37                         3.0           701   \n",
       "7                 0.37                         4.0           585   \n",
       "8                 0.35                         2.0           544   \n",
       "9                 0.13                         3.0           640   \n",
       "\n",
       "  previous_loan_defaults_on_file  \n",
       "0                             No  \n",
       "1                            Yes  \n",
       "2                             No  \n",
       "3                             No  \n",
       "4                             No  \n",
       "5                             No  \n",
       "6                             No  \n",
       "7                             No  \n",
       "8                             No  \n",
       "9                             No  "
      ]
     },
     "execution_count": 9,
     "metadata": {},
     "output_type": "execute_result"
    }
   ],
   "source": [
    "loan_dataset.iloc[0:10]"
   ]
  },
  {
   "cell_type": "code",
   "execution_count": 10,
   "id": "48e2cd77-857e-4cea-a11f-b1de3fe9dab9",
   "metadata": {},
   "outputs": [
    {
     "data": {
      "text/plain": [
       "array(['Master', 'High School', 'Bachelor', 'Associate', 'Doctorate'],\n",
       "      dtype=object)"
      ]
     },
     "execution_count": 10,
     "metadata": {},
     "output_type": "execute_result"
    }
   ],
   "source": [
    "# to check the categories in person_education\n",
    "\n",
    "loan_dataset['person_education'].unique()"
   ]
  },
  {
   "cell_type": "code",
   "execution_count": 11,
   "id": "5e15ec3f-fe6f-4315-8bf2-b0a09b66d6e6",
   "metadata": {},
   "outputs": [
    {
     "data": {
      "text/plain": [
       "(45000, 13)"
      ]
     },
     "execution_count": 11,
     "metadata": {},
     "output_type": "execute_result"
    }
   ],
   "source": [
    "loan_dataset.shape"
   ]
  },
  {
   "cell_type": "markdown",
   "id": "c95a19e6-f71c-4e29-ab3a-a1515aacfac6",
   "metadata": {},
   "source": [
    "### VISUALISATION"
   ]
  },
  {
   "cell_type": "code",
   "execution_count": 12,
   "id": "16c377f8-bc51-4ff2-b2e4-202f7578d4d2",
   "metadata": {},
   "outputs": [
    {
     "data": {
      "text/plain": [
       "'There is a significant difference between person_education and previous_loan_defaults_on_file @ pvalue: 0.0'"
      ]
     },
     "execution_count": 12,
     "metadata": {},
     "output_type": "execute_result"
    }
   ],
   "source": [
    "# steps in hypothesis testing\n",
    "\n",
    "# set up the hypothesis\n",
    "ho = 'There is no significant difference between Person_education and previous_loan_defaults_on_file '\n",
    "h1 = 'There is a significant difference between person_education and previous_loan_defaults_on_file'\n",
    "\n",
    "# choose level of significance\n",
    "alpha = 0.05\n",
    "\n",
    "# setup the decision rule\n",
    "def decision(p_value:float):\n",
    "\n",
    "  if p_value < alpha:\n",
    "    result = h1\n",
    "  else:\n",
    "    result = ho\n",
    "  return f'{result} @ pvalue: {round(p_value, 4)}'\n",
    "\n",
    "cross_tab = pd.crosstab(loan_dataset['person_education'],loan_dataset['previous_loan_defaults_on_file'])\n",
    "chi_stats, chi_pvalue, dof, exp = chi2_contingency(cross_tab)\n",
    "\n",
    "decision(chi_pvalue)"
   ]
  },
  {
   "cell_type": "code",
   "execution_count": null,
   "id": "933d245f-f53d-405d-b278-5c8093456974",
   "metadata": {},
   "outputs": [],
   "source": []
  },
  {
   "cell_type": "code",
   "execution_count": 13,
   "id": "7b493393-9a52-44c8-9951-f809df52b94b",
   "metadata": {
    "scrolled": true
   },
   "outputs": [
    {
     "data": {
      "text/plain": [
       "<Axes: xlabel='person_education', ylabel='count'>"
      ]
     },
     "execution_count": 13,
     "metadata": {},
     "output_type": "execute_result"
    },
    {
     "data": {
      "image/png": "[encoded data removed]",
      "text/plain": [
       "<Figure size 640x480 with 1 Axes>"
      ]
     },
     "metadata": {},
     "output_type": "display_data"
    }
   ],
   "source": [
    "\n",
    "sns.countplot(data=loan_dataset, x ='person_education',hue = 'previous_loan_defaults_on_file',)\n",
    "\n"
   ]
  },
  {
   "cell_type": "markdown",
   "id": "6256ca48-b87f-41db-ae4e-18bc777613b0",
   "metadata": {},
   "source": [
    "## What we are trying to analyse here is how person_education has affected previous_loan_default_on_file:\n",
    "### Persons in Masters, Bachelor and Doctorate categories have higher chances of returing their loan "
   ]
  },
  {
   "cell_type": "code",
   "execution_count": null,
   "id": "83ac6434-6f97-4a1a-b4f6-7aa9d31068dc",
   "metadata": {},
   "outputs": [],
   "source": []
  },
  {
   "cell_type": "code",
   "execution_count": null,
   "id": "6862735c-4e8b-4d49-ad0c-0eb49c893cab",
   "metadata": {},
   "outputs": [
    {
     "data": {
      "text/plain": [
       "<Axes: xlabel='count', ylabel='loan_intent'>"
      ]
     },
     "execution_count": 14,
     "metadata": {},
     "output_type": "execute_result"
    },
    {
     "data": {
      "image/png": "[encoded data removed]",
      "text/plain": [
       "<Figure size 640x480 with 1 Axes>"
      ]
     },
     "metadata": {},
     "output_type": "display_data"
    }
   ],
   "source": [
    "sns.countplot(data=loan_dataset, y ='loan_intent', hue = 'previous_loan_defaults_on_file')\n"
   ]
  },
  {
   "cell_type": "code",
   "execution_count": 15,
   "id": "9d6701d4-db50-45f5-bb16-26ec1fbae0d5",
   "metadata": {},
   "outputs": [
    {
     "data": {
      "text/plain": [
       "'There is a significant difference between loan_intent and previous_loan_defaults_on_file @ pvalue: 0.0'"
      ]
     },
     "execution_count": 15,
     "metadata": {},
     "output_type": "execute_result"
    }
   ],
   "source": [
    "# steps in hypothesis testing\n",
    "\n",
    "# set up the hypothesis\n",
    "ho = 'There is no significant difference between loan_intent and previous_loan_defaults_on_file '\n",
    "h1 = 'There is a significant difference between loan_intent and previous_loan_defaults_on_file'\n",
    "\n",
    "# choose level of significance\n",
    "alpha = 0.05\n",
    "\n",
    "# setup the decision rule\n",
    "def decision(p_value:float):\n",
    "\n",
    "  if p_value < alpha:\n",
    "    result = h1\n",
    "  else:\n",
    "    result = ho\n",
    "  return f'{result} @ pvalue: {round(p_value, 4)}'\n",
    "\n",
    "cross_tab = pd.crosstab(loan_dataset['loan_intent'],loan_dataset['previous_loan_defaults_on_file'])\n",
    "chi_stats, chi_pvalue, dof, exp = chi2_contingency(cross_tab)\n",
    "\n",
    "decision(chi_pvalue)"
   ]
  },
  {
   "cell_type": "code",
   "execution_count": null,
   "id": "7183d0e4-09de-4895-8f01-45b0dc6edfe2",
   "metadata": {},
   "outputs": [],
   "source": []
  },
  {
   "cell_type": "code",
   "execution_count": 16,
   "id": "6e162ae7-9172-45ce-9a25-0447147c3312",
   "metadata": {},
   "outputs": [
    {
     "data": {
      "text/plain": [
       "<Axes: xlabel='previous_loan_defaults_on_file', ylabel='person_income'>"
      ]
     },
     "execution_count": 16,
     "metadata": {},
     "output_type": "execute_result"
    },
    {
     "data": {
      "image/png": "[encoded data removed]",
      "text/plain": [
       "<Figure size 640x480 with 1 Axes>"
      ]
     },
     "metadata": {},
     "output_type": "display_data"
    }
   ],
   "source": [
    "sns.barplot(data=loan_dataset,x='previous_loan_defaults_on_file', y ='person_income',)"
   ]
  },
  {
   "cell_type": "code",
   "execution_count": null,
   "id": "ee7fc9d9",
   "metadata": {},
   "outputs": [],
   "source": []
  },
  {
   "cell_type": "code",
   "execution_count": 34,
   "id": "2535a31d",
   "metadata": {},
   "outputs": [
    {
     "data": {
      "text/plain": [
       "<Axes: xlabel='person_home_ownership', ylabel='count'>"
      ]
     },
     "execution_count": 34,
     "metadata": {},
     "output_type": "execute_result"
    },
    {
     "data": {
      "image/png": "[encoded data removed]",
      "text/plain": [
       "<Figure size 640x480 with 1 Axes>"
      ]
     },
     "metadata": {},
     "output_type": "display_data"
    }
   ],
   "source": [
    "sns.countplot(data=loan_dataset, x ='person_home_ownership',hue= 'previous_loan_defaults_on_file')"
   ]
  },
  {
   "cell_type": "markdown",
   "id": "ac601f52",
   "metadata": {},
   "source": [
    "T-TESTING FOR THE EXPECTED RELATIONSHIP"
   ]
  },
  {
   "cell_type": "code",
   "execution_count": 33,
   "id": "5370d177",
   "metadata": {},
   "outputs": [
    {
     "data": {
      "text/plain": [
       "'There is a significant difference between person_income across previous_loan_defaults_on_file @ pvalue: 0.0'"
      ]
     },
     "execution_count": 33,
     "metadata": {},
     "output_type": "execute_result"
    }
   ],
   "source": [
    "# steps in hypothesis testing\n",
    "\n",
    "# set up the hypothesis\n",
    "h0 = 'There is no significant difference between person_income across previous_loan_defaults_on_file'\n",
    "h1 = 'There is a significant difference between person_income across previous_loan_defaults_on_file'\n",
    "\n",
    "# choose level of significance\n",
    "alpha = 0.05\n",
    "\n",
    "# setup the decision rule\n",
    "def decision(p_value:float):\n",
    "\n",
    "  if p_value < alpha:\n",
    "    result = h1\n",
    "  else:\n",
    "    result = h0\n",
    "  return f'{result} @ pvalue: {round(p_value, 4)}'\n",
    "\n",
    "# compute the test\n",
    "model = ols(formula = 'person_income ~ previous_loan_defaults_on_file', data=loan_dataset).fit()\n",
    "anova_table = anova_lm(model)\n",
    "previous_loan_defaults_on_file_pvalue = anova_table['PR(>F)'].loc['previous_loan_defaults_on_file']\n",
    "\n",
    "# get conclusion\n",
    "decision(p_value= previous_loan_defaults_on_file_pvalue)"
   ]
  }
 ],
 "metadata": {
  "kernelspec": {
   "display_name": "Python 3",
   "language": "python",
   "name": "python3"
  },
  "language_info": {
   "codemirror_mode": {
    "name": "ipython",
    "version": 3
   },
   "file_extension": ".py",
   "mimetype": "text/x-python",
   "name": "python",
   "nbconvert_exporter": "python",
   "pygments_lexer": "ipython3",
   "version": "3.11.9"
  }
 },
 "nbformat": 4,
 "nbformat_minor": 5
}
